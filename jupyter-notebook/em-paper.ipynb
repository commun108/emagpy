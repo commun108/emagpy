{
 "cells": [
  {
   "cell_type": "markdown",
   "metadata": {
    "Collapsed": "false"
   },
   "source": [
    "# Examples of the EMI paper\n",
    "In this Jupyter notebook are replicated the case studies withthe code and graph from the EMI paper (TODO add DOI)."
   ]
  },
  {
   "cell_type": "code",
   "execution_count": 3,
   "metadata": {
    "Collapsed": "false"
   },
   "outputs": [],
   "source": [
    "import numpy as np\n",
    "import matplotlib.pyplot as plt\n",
    "import sys\n",
    "sys.path.append('../src')\n",
    "from emagpy import Problem\n",
    "\n",
    "datadir = '../src/examples/'\n",
    "outputdir = '../src/figures/'"
   ]
  },
  {
   "cell_type": "markdown",
   "metadata": {
    "Collapsed": "false"
   },
   "source": [
    "## CS vs Maxwell on synthetic conductive models - Paul \n",
    "- Graph 1: homogeneous conductivity increase (X) vs apparent modelled (Y) for CS and FS \n",
    "- Graph 2: different height (X) vs apparent modelled (Y) for CS and FS "
   ]
  },
  {
   "cell_type": "code",
   "execution_count": null,
   "metadata": {
    "Collapsed": "false"
   },
   "outputs": [],
   "source": []
  },
  {
   "cell_type": "markdown",
   "metadata": {
    "Collapsed": "false"
   },
   "source": [
    "## Calibrated and not calibrated (Boxford ERT line) - Paul"
   ]
  },
  {
   "cell_type": "code",
   "execution_count": null,
   "metadata": {
    "Collapsed": "false"
   },
   "outputs": [],
   "source": []
  },
  {
   "cell_type": "markdown",
   "metadata": {
    "Collapsed": "false"
   },
   "source": [
    "## Sharp and smooth inversions on Boxford transect/Devon’s data on saprolite for interface - Guillaume "
   ]
  },
  {
   "cell_type": "code",
   "execution_count": null,
   "metadata": {
    "Collapsed": "false"
   },
   "outputs": [],
   "source": []
  },
  {
   "cell_type": "markdown",
   "metadata": {
    "Collapsed": "false"
   },
   "source": [
    "## Synthetic about noise and inversion – Guillaume \n",
    "- Similar to Paul’s thesis graph: adding noise make the inversion less reliable \n",
    "- Graph with increasing noise level on a 2D model ? "
   ]
  },
  {
   "cell_type": "code",
   "execution_count": null,
   "metadata": {
    "Collapsed": "false"
   },
   "outputs": [],
   "source": []
  },
  {
   "cell_type": "markdown",
   "metadata": {
    "Collapsed": "false"
   },
   "source": [
    "## Time-lapse field application - Guillaume \n",
    "- Soil moisture content evolution vs EMI timelapse inversion \n",
    "- Quebec data, warren data or synthetic "
   ]
  },
  {
   "cell_type": "code",
   "execution_count": null,
   "metadata": {
    "Collapsed": "false"
   },
   "outputs": [],
   "source": [
    "k = Problem()\n",
    "k.createTimeLapseSurvey([datadir + 'timelapse-wheat/180101.csv',\n",
    "                        datadir + 'timelapse-wheat/180101.csv',\n",
    "                        datadir + 'timelapse-wheat/180101.csv'])\n"
   ]
  }
 ],
 "metadata": {
  "kernelspec": {
   "display_name": "Python 3",
   "language": "python",
   "name": "python3"
  },
  "language_info": {
   "codemirror_mode": {
    "name": "ipython",
    "version": 3
   },
   "file_extension": ".py",
   "mimetype": "text/x-python",
   "name": "python",
   "nbconvert_exporter": "python",
   "pygments_lexer": "ipython3",
   "version": "3.7.3"
  }
 },
 "nbformat": 4,
 "nbformat_minor": 4
}
